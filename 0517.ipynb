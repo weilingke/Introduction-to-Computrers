{
  "nbformat": 4,
  "nbformat_minor": 0,
  "metadata": {
    "colab": {
      "provenance": [],
      "authorship_tag": "ABX9TyMXOxa2N9OYSoONHXwr7D5S",
      "include_colab_link": true
    },
    "kernelspec": {
      "name": "python3",
      "display_name": "Python 3"
    },
    "language_info": {
      "name": "python"
    }
  },
  "cells": [
    {
      "cell_type": "markdown",
      "metadata": {
        "id": "view-in-github",
        "colab_type": "text"
      },
      "source": [
        "<a href=\"https://colab.research.google.com/github/weilingke/Introduction-to-Computrers/blob/main/0517.ipynb\" target=\"_parent\"><img src=\"https://colab.research.google.com/assets/colab-badge.svg\" alt=\"Open In Colab\"/></a>"
      ]
    },
    {
      "cell_type": "code",
      "source": [
        "print(\"0517\")"
      ],
      "metadata": {
        "colab": {
          "base_uri": "https://localhost:8080/"
        },
        "id": "LRbp29bwzBVI",
        "outputId": "9d581439-2890-4952-ebdf-995f45ba4039"
      },
      "execution_count": 3,
      "outputs": [
        {
          "output_type": "stream",
          "name": "stdout",
          "text": [
            "0517\n"
          ]
        }
      ]
    },
    {
      "cell_type": "code",
      "execution_count": 6,
      "metadata": {
        "colab": {
          "base_uri": "https://localhost:8080/"
        },
        "id": "BaZ67J_IxezQ",
        "outputId": "7b9d0948-4923-4933-a5f0-9366a7685dd4"
      },
      "outputs": [
        {
          "output_type": "stream",
          "name": "stdout",
          "text": [
            "score:50\n",
            "Grade is:F\n"
          ]
        }
      ],
      "source": [
        "score=int(input(\"score:\"))\n",
        "if score >=90:\n",
        "  print('Grade is:A')\n",
        "elif score >=80:\n",
        "  print('Grade is:B')\n",
        "elif score >=70:\n",
        "  print('Grade is:C')\n",
        "elif score >=60:\n",
        "  print('Grade is:D')\n",
        "else:\n",
        "  print('Grade is:F')"
      ]
    },
    {
      "cell_type": "code",
      "source": [
        "rain=str(input(\"今天會下雨嗎?\"))\n",
        "if(rain==\"Y\" or rain==\"y\"):\n",
        "  print(\"出門記得帶傘!\")\n",
        "elif(rain==\"N\" or rain==\"n\"):\n",
        "  print(\"出門不用帶傘!\")\n",
        "else:\n",
        "  print(\"例外處理!\")"
      ],
      "metadata": {
        "colab": {
          "base_uri": "https://localhost:8080/"
        },
        "id": "_MS-waJz0NfZ",
        "outputId": "449a2904-68a8-44bb-d47f-787445b4cdad"
      },
      "execution_count": 8,
      "outputs": [
        {
          "output_type": "stream",
          "name": "stdout",
          "text": [
            "今天會下雨嗎?n\n",
            "出門不用帶傘!\n"
          ]
        }
      ]
    },
    {
      "cell_type": "code",
      "source": [
        "temperature=int(input(\"請輸入體溫:\"))\n",
        "if temperature>=37.5:\n",
        "  print(\"體溫過高!\")\n",
        "elif temperature>=37 and temperature<=37.4:\n",
        "  print(\"體溫略高!\")\n",
        "elif temperature>=34 and temperature<=36.9:\n",
        "  print(\"體溫正常!\")\n",
        "else:\n",
        "  print(\"體溫異常，請重新量測!\")"
      ],
      "metadata": {
        "colab": {
          "base_uri": "https://localhost:8080/"
        },
        "id": "PtvmuAsJ0OXU",
        "outputId": "21f0d2fd-a223-4648-8fa2-329f3cf70dd9"
      },
      "execution_count": 9,
      "outputs": [
        {
          "output_type": "stream",
          "name": "stdout",
          "text": [
            "請輸入體溫:35\n",
            "體溫正常!\n"
          ]
        }
      ]
    },
    {
      "cell_type": "code",
      "source": [
        "score=int(input(\"請輸入成績:\"))\n",
        "if score>=90:\n",
        "  print('A')\n",
        "elif score>=80 and score<=89:\n",
        "  print('B')\n",
        "elif score>=70 and score<=79:\n",
        "  print('C')\n",
        "elif score>=60 and score<=69:\n",
        "  print('D')\n",
        "elif score<60:\n",
        "  print('E')\n",
        "else:\n",
        "  print('請重新輸入')"
      ],
      "metadata": {
        "colab": {
          "base_uri": "https://localhost:8080/"
        },
        "id": "zOxtxkYa2Uni",
        "outputId": "bb874431-f8af-4d09-b922-b34865c8772a"
      },
      "execution_count": 12,
      "outputs": [
        {
          "output_type": "stream",
          "name": "stdout",
          "text": [
            "請輸入成績:50\n",
            "E\n"
          ]
        }
      ]
    },
    {
      "cell_type": "code",
      "source": [
        "month=int(input(\"請輸入月份:\"))\n",
        "if month>=1 and month<=3:\n",
        "  print(\"春季\")\n",
        "elif month>=4 and month<=6:\n",
        "  print(\"夏季\")\n",
        "elif month>=7 and month<=9:\n",
        "  print(\"秋季\")\n",
        "elif month>=9 and month<=12:\n",
        "  print(\"冬季\")\n",
        "else:\n",
        "  print(\"無效月份\")"
      ],
      "metadata": {
        "id": "LUDtG6Npzkqz"
      },
      "execution_count": null,
      "outputs": []
    },
    {
      "cell_type": "code",
      "source": [
        "income=int(input(\"請輸入今年收入淨額:\"))\n",
        "if income>=2000000:\n",
        "  print(\"付稅金額:\",income*0.3,\"元\")\n",
        "elif income>=1000000:\n",
        "  print(\"付稅金額:\",income*0.21,\"元\")\n",
        "elif income>=600000:\n",
        "  print(\"付稅金額:\",income*0.13,\"元\")\n",
        "elif income>=300000:\n",
        "  print(\"付稅金額:\",income*0.06,\"元\")\n",
        "else:\n",
        "  print(\"付稅金額:0元\")"
      ],
      "metadata": {
        "colab": {
          "base_uri": "https://localhost:8080/"
        },
        "id": "I9NrhdZw3DjD",
        "outputId": "2f87308f-2f47-4cef-9fb5-63ff0bfa4fdf"
      },
      "execution_count": 16,
      "outputs": [
        {
          "output_type": "stream",
          "name": "stdout",
          "text": [
            "請輸入今年收入淨額:2000000\n",
            "付稅金額: 600000.0 元\n"
          ]
        }
      ]
    }
  ]
}